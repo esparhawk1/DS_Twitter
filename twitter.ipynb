{
 "cells": [
  {
   "cell_type": "code",
   "execution_count": null,
   "metadata": {
    "collapsed": false
   },
   "outputs": [
    {
     "name": "stdout",
     "output_type": "stream",
     "text": [
      "stuff\n",
      "There are 248646 tweets \n"
     ]
    }
   ],
   "source": [
    "#!/usr/bin/python\n",
    "# -*- coding: utf-8 -*-\n",
    "import MySQLdb as mdb\n",
    "import sys\n",
    "import operator\n",
    "print (\"stuff\");\n",
    "try:\n",
    "    con = mdb.connect('opendata.missouri.edu', 'datascience', 'datascience', 'datascience'); \n",
    "    cur = con.cursor()\n",
    "    \n",
    "    cur.execute(\"SELECT count(*) FROM tweet WHERE job_id=4255\")\n",
    "    count = cur.fetchone()\n",
    "    print (\"There are %d tweets \" % count)\n",
    "    \n",
    "    cur.execute(\"SELECT MIN(created_at) FROM tweet WHERE job_id=4255\")\n",
    "    first = cur.fetchone()\n",
    "    print (\"The first tweet was on %s \" % count)\n",
    "    \n",
    "    cur.execute(\"SELECT MAX(created_at) FROM tweet WHERE job_id=4255\")\n",
    "    last = cur.fetchone()\n",
    "    print (\"The last tweet was on %s \" % count)\n",
    "    \n",
    "    cur.execute(\"SELECT count(*) FROM tweet WHERE job_id=4255 GROUP BY YEAR(created_at), MONTH(created_at, DAY(created_at))\")\n",
    "    count_by_date = cur.fetchone()\n",
    "    print (\"The last tweet was on %s \" % count)\n",
    "    \n",
    "    cur.execute(\"SELECT text FROM tweet WHERE job_id=4255\")\n",
    "    all_text = cur.fetchall()\n",
    "    words=dict()\n",
    "    for row in all_text:\n",
    "        text=row[0].split(\" \")\n",
    "        for word in text:\n",
    "            if word not in words:\n",
    "                words[word]=1\n",
    "            else:\n",
    "                value=words.get(word)+1\n",
    "                words[word]=value\n",
    "    sorted_words=sorted(words.items(), key=operator.itemgetter(1))\n",
    "    print sorted_words\n",
    "    \n",
    "    cur.execute(\"SELECT job_id, MONTH(created_at), count(*) FROM tweet GROUP BY job_id, MONTH(created_at)\")\n",
    "    counts = cur.fetchall()\n",
    "    for row in counts:\n",
    "        print row[0]\n",
    "    \n",
    "    \n",
    "except mdb.Error as e:\n",
    "  \n",
    "    print (\"Error %d: %s\" % (e.args[0],e.args[1]))\n",
    "    sys.exit(1)\n",
    "    \n",
    "if con:    \n",
    "    con.close()"
   ]
  },
  {
   "cell_type": "code",
   "execution_count": null,
   "metadata": {
    "collapsed": false
   },
   "outputs": [],
   "source": []
  },
  {
   "cell_type": "code",
   "execution_count": null,
   "metadata": {
    "collapsed": true
   },
   "outputs": [],
   "source": []
  },
  {
   "cell_type": "code",
   "execution_count": null,
   "metadata": {
    "collapsed": true
   },
   "outputs": [],
   "source": []
  },
  {
   "cell_type": "code",
   "execution_count": null,
   "metadata": {
    "collapsed": true
   },
   "outputs": [],
   "source": []
  }
 ],
 "metadata": {
  "kernelspec": {
   "display_name": "Python 2",
   "language": "python",
   "name": "python2"
  },
  "language_info": {
   "codemirror_mode": {
    "name": "ipython",
    "version": 2
   },
   "file_extension": ".py",
   "mimetype": "text/x-python",
   "name": "python",
   "nbconvert_exporter": "python",
   "pygments_lexer": "ipython2",
   "version": "2.7.11"
  }
 },
 "nbformat": 4,
 "nbformat_minor": 0
}
